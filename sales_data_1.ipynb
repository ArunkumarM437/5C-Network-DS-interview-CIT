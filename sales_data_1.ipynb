{
 "cells": [
  {
   "cell_type": "code",
   "execution_count": 1,
   "id": "09e88efd-8b37-49e9-aec9-b5a314b11c53",
   "metadata": {},
   "outputs": [],
   "source": [
    "import pandas as pd\n",
    "from datetime import datetime\n"
   ]
  },
  {
   "cell_type": "code",
   "execution_count": 3,
   "id": "a52f7a54-2846-4842-914b-679efecb2e44",
   "metadata": {},
   "outputs": [],
   "source": [
    "data = pd.read_csv('sales_data_1.csv')"
   ]
  },
  {
   "cell_type": "code",
   "execution_count": 4,
   "id": "c99f2e71-7e53-4541-a857-3c5a89e937ea",
   "metadata": {},
   "outputs": [
    {
     "name": "stdout",
     "output_type": "stream",
     "text": [
      "<class 'pandas.core.frame.DataFrame'>\n",
      "RangeIndex: 70 entries, 0 to 69\n",
      "Data columns (total 6 columns):\n",
      " #   Column            Non-Null Count  Dtype  \n",
      "---  ------            --------------  -----  \n",
      " 0   Date              70 non-null     object \n",
      " 1   Firm bought from  70 non-null     object \n",
      " 2   Buying price      70 non-null     float64\n",
      " 3   Customer          70 non-null     object \n",
      " 4   Selling price     70 non-null     float64\n",
      " 5   Quantity sold     70 non-null     int64  \n",
      "dtypes: float64(2), int64(1), object(3)\n",
      "memory usage: 3.4+ KB\n",
      "None\n"
     ]
    }
   ],
   "source": [
    "print(data.info()) "
   ]
  },
  {
   "cell_type": "code",
   "execution_count": 5,
   "id": "b306d5e7-03b0-43db-95a9-9446b3712b42",
   "metadata": {},
   "outputs": [
    {
     "name": "stdout",
     "output_type": "stream",
     "text": [
      "       Date Firm bought from  Buying price   Customer  Selling price  \\\n",
      "0  21/08/23          Vendor6         72.11  Customer7          91.58   \n",
      "1  21/08/23          Vendor4         75.08  Customer7          83.71   \n",
      "2  21/08/23          Vendor7         83.93  Customer2         103.76   \n",
      "3  21/08/23          Vendor7         52.01  Customer3          64.53   \n",
      "4  21/08/23          Vendor2         98.91  Customer5         140.92   \n",
      "5  21/08/23          Vendor9         63.34  Customer4          85.13   \n",
      "6  21/08/23          Vendor2         74.34  Customer6         106.93   \n",
      "7  21/08/23          Vendor3         98.11  Customer2         146.76   \n",
      "8  21/08/23          Vendor1         20.95  Customer3          24.48   \n",
      "9  21/08/23          Vendor5         88.45  Customer7         102.31   \n",
      "\n",
      "   Quantity sold  \n",
      "0             44  \n",
      "1             17  \n",
      "2             15  \n",
      "3              7  \n",
      "4              1  \n",
      "5             83  \n",
      "6              6  \n",
      "7             62  \n",
      "8             22  \n",
      "9             23  \n"
     ]
    }
   ],
   "source": [
    "print(data.head(10))"
   ]
  },
  {
   "cell_type": "code",
   "execution_count": 8,
   "id": "d198d2aa-e084-4be3-a081-0c0e12a2e5c0",
   "metadata": {},
   "outputs": [
    {
     "name": "stdout",
     "output_type": "stream",
     "text": [
      "31482.749999999996\n"
     ]
    }
   ],
   "source": [
    "#What is their overall gross margin for their business?\n",
    "data['Gross Margin'] = (data['Selling price'] - data['Buying price']) * data['Quantity sold']\n",
    "overall_gross_margin = data['Gross Margin'].sum()\n",
    "print(overall_gross_margin)"
   ]
  },
  {
   "cell_type": "code",
   "execution_count": 10,
   "id": "7a70b04e-5667-40e8-bfa9-14c9e5c5e33f",
   "metadata": {},
   "outputs": [
    {
     "name": "stdout",
     "output_type": "stream",
     "text": [
      "Vendor4\n"
     ]
    }
   ],
   "source": [
    "#2 Which vendor is the most profitable?\n",
    "mp_vendor = data.groupby('Firm bought from')['Gross Margin'].sum().idxmax()\n",
    "print(mp_vendor)"
   ]
  },
  {
   "cell_type": "code",
   "execution_count": 11,
   "id": "71dad30a-d8cb-4cba-b50c-3546618a1def",
   "metadata": {},
   "outputs": [
    {
     "name": "stdout",
     "output_type": "stream",
     "text": [
      "Customer3\n"
     ]
    }
   ],
   "source": [
    "#3 less profitable vendor \n",
    "less=data.groupby('Customer')['Gross Margin'].sum().idxmin()\n",
    "print(less)"
   ]
  },
  {
   "cell_type": "code",
   "execution_count": 14,
   "id": "4c40a912-f79b-4c26-9b4a-ec33ff780267",
   "metadata": {},
   "outputs": [
    {
     "name": "stdout",
     "output_type": "stream",
     "text": [
      "most profit day  Monday\n"
     ]
    }
   ],
   "source": [
    "#the day of the week profitable \n",
    "data['Date'] = pd.to_datetime(data['Date'], format='%d/%m/%y')\n",
    "data['Day of Week'] = data['Date'].dt.day_name()\n",
    "day = data.groupby('Day of Week')['Gross Margin'].sum().idxmax()\n",
    "print(\"most profit day \", day)\n"
   ]
  },
  {
   "cell_type": "code",
   "execution_count": 15,
   "id": "55ad0b53-9e42-41f2-9067-2d760c029521",
   "metadata": {},
   "outputs": [
    {
     "name": "stdout",
     "output_type": "stream",
     "text": [
      "less profit day  Sunday\n"
     ]
    }
   ],
   "source": [
    "#least profit day \n",
    "lday = data.groupby('Day of Week')['Gross Margin'].sum().idxmin()\n",
    "print(\"less profit day \",lday)\n",
    "\n",
    "#sapota :)\n"
   ]
  },
  {
   "cell_type": "code",
   "execution_count": null,
   "id": "08c3842e-5d44-4bc8-9ac2-6bc4d6128a86",
   "metadata": {},
   "outputs": [],
   "source": []
  }
 ],
 "metadata": {
  "kernelspec": {
   "display_name": "Python 3 (ipykernel)",
   "language": "python",
   "name": "python3"
  },
  "language_info": {
   "codemirror_mode": {
    "name": "ipython",
    "version": 3
   },
   "file_extension": ".py",
   "mimetype": "text/x-python",
   "name": "python",
   "nbconvert_exporter": "python",
   "pygments_lexer": "ipython3",
   "version": "3.11.4"
  }
 },
 "nbformat": 4,
 "nbformat_minor": 5
}
