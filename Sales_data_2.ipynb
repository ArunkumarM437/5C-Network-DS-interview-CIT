{
 "cells": [
  {
   "cell_type": "code",
   "execution_count": 9,
   "id": "43ce6d29-e8b8-444c-87e7-849c670b15b0",
   "metadata": {},
   "outputs": [],
   "source": [
    "import pandas as pd\n",
    "import numpy as np\n"
   ]
  },
  {
   "cell_type": "code",
   "execution_count": 2,
   "id": "a255b30f-ecd2-402d-8b61-70d0c1355b98",
   "metadata": {},
   "outputs": [],
   "source": [
    "data = pd.read_csv('sales_data_2.csv')"
   ]
  },
  {
   "cell_type": "code",
   "execution_count": 4,
   "id": "a03b25be-06c4-4c7c-a08e-6da7a69af7ec",
   "metadata": {},
   "outputs": [
    {
     "name": "stdout",
     "output_type": "stream",
     "text": [
      "         Date Firm bought from  Buying price  Quantity bought   Customer  \\\n",
      "0  2023-08-21          Vendor6         72.11               60  Customer7   \n",
      "1  2023-08-21          Vendor4         75.08               92  Customer7   \n",
      "2  2023-08-21          Vendor7         83.93               16  Customer2   \n",
      "3  2023-08-21          Vendor7         52.01               62  Customer3   \n",
      "4  2023-08-21          Vendor2         98.91                1  Customer5   \n",
      "5  2023-08-21          Vendor9         63.34               89  Customer4   \n",
      "6  2023-08-21          Vendor2         74.34                7  Customer6   \n",
      "7  2023-08-21          Vendor3         98.11               62  Customer2   \n",
      "8  2023-08-21          Vendor1         20.95               95  Customer3   \n",
      "9  2023-08-21          Vendor5         88.45               39  Customer7   \n",
      "\n",
      "   Selling price  Quantity sold  \n",
      "0          91.58             44  \n",
      "1          83.71             17  \n",
      "2         103.76             15  \n",
      "3          64.53              7  \n",
      "4         140.92              1  \n",
      "5          85.13             83  \n",
      "6         106.93              6  \n",
      "7         146.76             62  \n",
      "8          24.48             22  \n",
      "9         102.31             23  \n"
     ]
    }
   ],
   "source": [
    "print(data.head(10))"
   ]
  },
  {
   "cell_type": "code",
   "execution_count": 7,
   "id": "ed3d5031-058f-4525-8dc2-9899275b3a0a",
   "metadata": {},
   "outputs": [
    {
     "name": "stdout",
     "output_type": "stream",
     "text": [
      "0           NaN\n",
      "1           NaN\n",
      "2     15.976667\n",
      "3     13.660000\n",
      "4     24.786667\n",
      "        ...    \n",
      "65    20.686667\n",
      "66    22.173333\n",
      "67    23.016667\n",
      "68    26.010000\n",
      "69    29.036667\n",
      "Name: 3-day Average, Length: 70, dtype: float64\n"
     ]
    }
   ],
   "source": [
    "data['Gross Profit'] = data['Selling price'] - data['Buying price']\n",
    "data['3-day Average'] = data['Gross Profit'].rolling(window=3).mean()\n",
    "print(data['3-day Average'])"
   ]
  },
  {
   "cell_type": "code",
   "execution_count": 10,
   "id": "e3c27548-241c-4c1e-af1c-3b6de646f0e0",
   "metadata": {},
   "outputs": [
    {
     "name": "stdout",
     "output_type": "stream",
     "text": [
      "         Date  Gross Profit  3-day Average\n",
      "0  2023-08-21         19.47            NaN\n",
      "1  2023-08-21          8.63            NaN\n",
      "2  2023-08-21         19.83      15.976667\n",
      "3  2023-08-21         12.52      13.660000\n",
      "4  2023-08-21         42.01      24.786667\n",
      "5  2023-08-21         21.79      25.440000\n",
      "6  2023-08-21         32.59      32.130000\n",
      "7  2023-08-21         48.65      34.343333\n",
      "8  2023-08-21          3.53      28.256667\n",
      "9  2023-08-21         13.86      22.013333\n"
     ]
    }
   ],
   "source": [
    "\n",
    "print(data[['Date', 'Gross Profit', '3-day Average']].head(10))\n",
    "\n",
    "\n"
   ]
  },
  {
   "cell_type": "code",
   "execution_count": 12,
   "id": "0de37131-bed9-4140-b555-af5872ee1fb0",
   "metadata": {},
   "outputs": [
    {
     "name": "stdout",
     "output_type": "stream",
     "text": [
      "Gross Profit by Vendor:\n",
      " Firm bought from\n",
      "Vendor1      53.23\n",
      "Vendor10     82.58\n",
      "Vendor2     161.11\n",
      "Vendor3     165.18\n",
      "Vendor4     170.11\n",
      "Vendor5     116.98\n",
      "Vendor6      32.11\n",
      "Vendor7     224.98\n",
      "Vendor8      35.66\n",
      "Vendor9     165.26\n",
      "Name: Gross Profit, dtype: float64\n"
     ]
    }
   ],
   "source": [
    "vendor_prof = data.groupby('Firm bought from')['Gross Profit'].sum()\n",
    "print(\"Gross Profit by Vendor:\\n\", vendor_prof)\n",
    "\n",
    "\n",
    "\n",
    "'''Vendor2     161.11\n",
    "Vendor3     165.18\n",
    "Vendor4     170.11'''\n",
    "#here the vendor 2,3,4 selling price high but high profit margin,the vendor 9 ,7is hight the profit margin is low so remove vnedor 9 ,7"
   ]
  },
  {
   "cell_type": "code",
   "execution_count": 13,
   "id": "126a73bb-7f65-4629-8b5d-2c1c60a6a2d1",
   "metadata": {},
   "outputs": [
    {
     "name": "stdout",
     "output_type": "stream",
     "text": [
      "Gross Profit by Customer:\n",
      " Customer\n",
      "Customer1     132.59\n",
      "Customer10     87.44\n",
      "Customer2     164.56\n",
      "Customer3      90.63\n",
      "Customer4     123.97\n",
      "Customer5     115.45\n",
      "Customer6     135.23\n",
      "Customer7     115.33\n",
      "Customer8     184.38\n",
      "Customer9      57.62\n",
      "Name: Gross Profit, dtype: float64\n"
     ]
    }
   ],
   "source": [
    "customer_prof = data.groupby('Customer')['Gross Profit'].sum()\n",
    "print(\"Gross Profit by Customer:\\n\", customer_prof)"
   ]
  },
  {
   "cell_type": "code",
   "execution_count": 14,
   "id": "e5a628c0-eec3-4ece-8276-d1efcf85537a",
   "metadata": {},
   "outputs": [
    {
     "name": "stdout",
     "output_type": "stream",
     "text": [
      "Percentiles for Buying and Selling Prices:\n",
      "       Buying price  Selling price\n",
      "0.25         29.90        38.9750\n",
      "0.50         60.76        78.9900\n",
      "0.75         78.32       103.3975\n"
     ]
    }
   ],
   "source": [
    "percentiles = data[['Buying price', 'Selling price']].quantile([0.25, 0.5, 0.75])\n",
    "print(\"Percentiles for Buying and Selling Prices:\\n\", percentiles)"
   ]
  },
  {
   "cell_type": "code",
   "execution_count": 16,
   "id": "6d213fac-9103-44e6-8f75-c4bcfdeb2790",
   "metadata": {},
   "outputs": [
    {
     "name": "stdout",
     "output_type": "stream",
     "text": [
      "Frequency of prices falling below 25th percentile and above 75th percentile:\n",
      "Buying price below 25th percentile: 18\n",
      "Selling price above 75th percentile: 18\n"
     ]
    }
   ],
   "source": [
    "below_25th = data[data['Buying price'] < percentiles.loc[0.25, 'Buying price']]\n",
    "above_75th = data[data['Selling price'] > percentiles.loc[0.75, 'Selling price']]\n",
    "print(\"Frequency of prices falling below 25th percentile and above 75th percentile:\")\n",
    "print(\"Buying price below 25th percentile:\", len(below_25th))\n",
    "print(\"Selling price above 75th percentile:\", len(above_75th))"
   ]
  },
  {
   "cell_type": "code",
   "execution_count": 17,
   "id": "e81f8432-0c51-48d1-99f9-421e82707f6c",
   "metadata": {},
   "outputs": [
    {
     "name": "stdout",
     "output_type": "stream",
     "text": [
      "Impact on optimal gross margin for Vendor4:\n",
      "           Date Firm bought from  Buying price  Quantity bought    Customer  \\\n",
      "1   2023-08-21          Vendor4         75.08               92   Customer7   \n",
      "29  2023-08-23          Vendor4         50.49               43  Customer10   \n",
      "34  2023-08-24          Vendor4         99.23               95   Customer1   \n",
      "49  2023-08-25          Vendor4         17.85               80   Customer5   \n",
      "54  2023-08-26          Vendor4         82.77               66   Customer8   \n",
      "59  2023-08-26          Vendor4         28.90               88   Customer8   \n",
      "62  2023-08-27          Vendor4         68.27               22   Customer4   \n",
      "63  2023-08-27          Vendor4         83.76               34   Customer3   \n",
      "65  2023-08-27          Vendor4         64.82               28   Customer6   \n",
      "\n",
      "    Selling price  Quantity sold  Gross Profit  3-day Average  \n",
      "1           83.71             17          8.63            NaN  \n",
      "29          59.99             41          9.50      21.850000  \n",
      "34         131.98             92         32.75      16.260000  \n",
      "49          20.47             20          2.62      13.780000  \n",
      "54         124.13             65         41.36      25.790000  \n",
      "59          36.83             11          7.93      16.970000  \n",
      "62         100.62              1         32.35      17.630000  \n",
      "63          96.10              7         12.34      19.783333  \n",
      "65          87.45             18         22.63      20.686667  \n"
     ]
    }
   ],
   "source": [
    "vendor4_impact = data[data['Firm bought from'] == 'Vendor4']\n",
    "print(\"Impact on optimal gross margin for Vendor4:\\n\", vendor4_impact)"
   ]
  },
  {
   "cell_type": "code",
   "execution_count": 18,
   "id": "896c894f-e7f0-4d90-9e42-6a021305a022",
   "metadata": {},
   "outputs": [
    {
     "name": "stdout",
     "output_type": "stream",
     "text": [
      "Vendor for strategic tie-up:  Vendor7\n",
      "Theoretical max margin:  224.98\n"
     ]
    }
   ],
   "source": [
    "vendor_tieup = data.groupby('Firm bought from')['Gross Profit'].sum().idxmax()\n",
    "max_profit = data[data['Firm bought from'] == vendor_tieup]['Gross Profit'].sum()\n",
    "print(\"Vendor for strategic tie-up: \", vendor_tieup)\n",
    "print(\"Theoretical max margin: \", max_profit)"
   ]
  },
  {
   "cell_type": "code",
   "execution_count": null,
   "id": "dbfdf90a-3291-4a1a-b820-14e894b18c93",
   "metadata": {},
   "outputs": [],
   "source": []
  }
 ],
 "metadata": {
  "kernelspec": {
   "display_name": "Python 3 (ipykernel)",
   "language": "python",
   "name": "python3"
  },
  "language_info": {
   "codemirror_mode": {
    "name": "ipython",
    "version": 3
   },
   "file_extension": ".py",
   "mimetype": "text/x-python",
   "name": "python",
   "nbconvert_exporter": "python",
   "pygments_lexer": "ipython3",
   "version": "3.11.4"
  }
 },
 "nbformat": 4,
 "nbformat_minor": 5
}
